{
 "cells": [
  {
   "cell_type": "code",
   "execution_count": 15,
   "id": "ebe864df",
   "metadata": {},
   "outputs": [],
   "source": [
    "import Distribution.Normal_Distribution as nd"
   ]
  },
  {
   "cell_type": "code",
   "execution_count": 16,
   "id": "92118ac5",
   "metadata": {},
   "outputs": [],
   "source": [
    "import pandas as pd\n",
    "\n",
    "df = nd.Generate_Dist(2,0.5,1000)"
   ]
  },
  {
   "cell_type": "code",
   "execution_count": 17,
   "id": "25e61e6d",
   "metadata": {},
   "outputs": [
    {
     "name": "stdout",
     "output_type": "stream",
     "text": [
      "     Column_A\n",
      "0    1.967411\n",
      "1    2.920656\n",
      "2    0.968105\n",
      "3    2.030789\n",
      "4    1.651137\n",
      "..        ...\n",
      "995  2.119715\n",
      "996  2.995833\n",
      "997  1.758780\n",
      "998  2.523224\n",
      "999  1.940356\n",
      "\n",
      "[1000 rows x 1 columns]\n"
     ]
    }
   ],
   "source": [
    "print(df)"
   ]
  },
  {
   "cell_type": "code",
   "execution_count": 18,
   "id": "bcafead4",
   "metadata": {},
   "outputs": [
    {
     "data": {
      "text/plain": [
       "['Generate_Dist',\n",
       " '__builtins__',\n",
       " '__cached__',\n",
       " '__doc__',\n",
       " '__file__',\n",
       " '__loader__',\n",
       " '__name__',\n",
       " '__package__',\n",
       " '__spec__',\n",
       " 'np',\n",
       " 'pd',\n",
       " 'random']"
      ]
     },
     "execution_count": 18,
     "metadata": {},
     "output_type": "execute_result"
    }
   ],
   "source": [
    "dir(nd)"
   ]
  },
  {
   "cell_type": "code",
   "execution_count": null,
   "id": "50d9cdfd",
   "metadata": {},
   "outputs": [],
   "source": []
  }
 ],
 "metadata": {
  "kernelspec": {
   "display_name": "Python 3 (ipykernel)",
   "language": "python",
   "name": "python3"
  },
  "language_info": {
   "codemirror_mode": {
    "name": "ipython",
    "version": 3
   },
   "file_extension": ".py",
   "mimetype": "text/x-python",
   "name": "python",
   "nbconvert_exporter": "python",
   "pygments_lexer": "ipython3",
   "version": "3.8.0"
  }
 },
 "nbformat": 4,
 "nbformat_minor": 5
}
